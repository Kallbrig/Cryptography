{
  "cells":[
    {
      "cell_type":"code",
      "source":[
        "from random import randint\n",
        "import timeit"
      ],
      "execution_count":1,
      "outputs":[
        
      ],
      "metadata":{
        
      }
    },
    {
      "cell_type":"code",
      "source":[
        "# Various dictionaries that can be used in encryption\n",
        "# The more characters in the dictionary, the longer it takes to break the encryption\n",
        "\n",
        "dictionaries = {\n",
        "              'alphabet_no_caps': 'abcdefghijklmnopqrstuvwxyz',\n",
        "              'alphabet_with_caps': 'abcdefghijklmnopqrstuvwxyzABCDEFGHIJKLMNOPQRSTUVWXYZ',\n",
        "              'alphanumeric_no_caps': 'abcdefghijklmnopqrstuvwxyz0123456789',\n",
        "              'alphanumeric_with_caps': 'abcdefghijklmnopqrstuvwxyzABCDEFGHIJKLMNOPQRSTUVWXYZ0123456789',\n",
        "}"
      ],
      "execution_count":2,
      "outputs":[
        
      ],
      "metadata":{
        
      }
    },
    {
      "cell_type":"code",
      "source":[
        "# the encrypt function takes in the string to be encrypted and the dictionary to be used when encrypting\n",
        "\n",
        "# returns the encrypted string, the dictionary, and the offset used when encrypting\n",
        "\n",
        "def encrypt(string_to_encrypt:str, dictionary:str):\n",
        "\n",
        "    output = ''\n",
        "\n",
        "    # Generates a random number to be the offset\n",
        "    offset = randint(0,len(dictionary))\n",
        "\n",
        "    for character in string_to_encrypt:\n",
        "        \n",
        "        # maintains spaces in the output.\n",
        "        if character == ' ':\n",
        "            output += ' '\n",
        "\n",
        "        else:\n",
        "            # The next two lines can be combined, but i'm leaving it this way for readability\n",
        "            encrypted_character_index = (dictionary.find(character) + offset) % len(dictionary)\n",
        "            encrypted_character = dictionary[encrypted_character_index]\n",
        "\n",
        "            # Adding the encrypted character to the output\n",
        "            output += encrypted_character\n",
        "\n",
        "\n",
        "\n",
        "    # Returning this information to be helpful in decrypting.\n",
        "    # \n",
        "    return {'output':output,\n",
        "            'dictionary':dictionary,\n",
        "            'offset':offset}"
      ],
      "execution_count":3,
      "outputs":[
        
      ],
      "metadata":{
        
      }
    },
    {
      "cell_type":"code",
      "source":[
        "# the decrypt function takes in the encrypted string, the dictionary to be used when decrypting, \n",
        "# and the offset used when encrypting.\n",
        "\n",
        "# returns the decrypted string\n",
        "\n",
        "def decrypt(encrypted_str:str, dictionary:str,offset:int):\n",
        "\n",
        "    output = ''\n",
        "    \n",
        "\n",
        "    for character in encrypted_str:\n",
        "        \n",
        "        # maintains spaces in the decryption.\n",
        "        if character == ' ':\n",
        "            output += ' '\n",
        "        \n",
        "        else:\n",
        "            # The next two lines can be combined, but i'm leaving it this way for readability\n",
        "            decrypted_character_index = (dictionary.find(character) - offset) % len(dictionary)\n",
        "            decrypted_character = dictionary[decrypted_character_index]\n",
        "\n",
        "            # Adding the decrypted character to the output\n",
        "            output += decrypted_character\n",
        "\n",
        "\n",
        "    return output"
      ],
      "execution_count":4,
      "outputs":[
        
      ],
      "metadata":{
        
      }
    },
    {
      "cell_type":"code",
      "source":[
        "# Reading in the document to be encrypted\n",
        " \n",
        "\n",
        "with open('shakespeare.txt') as txt:\n",
        "    text = txt.read()\n"
      ],
      "execution_count":5,
      "outputs":[
        
      ],
      "metadata":{
        
      }
    },
    {
      "cell_type":"code",
      "source":[
        "# Cleaning the document to be encrypted\n",
        "# converts everything to lowercase, and removes anything not in the dictionary\n",
        "\n",
        "cleaned = ''\n",
        "\n",
        "text = text.lower()\n",
        "\n",
        "for i in range(len(text)):\n",
        "    if text[i] in dictionaries['alphanumeric_no_caps'] or text[i] == ' ':\n",
        "        cleaned += text[i]"
      ],
      "execution_count":6,
      "outputs":[
        
      ],
      "metadata":{
        
      }
    },
    {
      "cell_type":"code",
      "source":[
        "# Encrypting the text using the alphanumeric_no_caps dictionary\n",
        "encrypted_shakesphere = encrypt(cleaned,dictionaries['alphanumeric_no_caps'])\n",
        "\n",
        "# Prints the dictionary and the offset used in the encryption for transparency.\n",
        "print(encrypted_shakesphere['dictionary'])\n",
        "print(encrypted_shakesphere['offset'])"
      ],
      "execution_count":7,
      "outputs":[
        {
          "name":"stdout",
          "text":[
            "abcdefghijklmnopqrstuvwxyz0123456789\n",
            "22\n"
          ],
          "output_type":"stream"
        }
      ],
      "metadata":{
        
      }
    },
    {
      "cell_type":"code",
      "source":[
        "# Just to make sure everything decodes properly\n",
        "# prints out the first 51 characters of the original, unaltered string and the decrypted string\n",
        "# just to show that everything is as it should be.\n",
        "\n",
        "# Printing the first bit of the original text\n",
        "print('Original: ',text[0:50])\n",
        "\n",
        "# Priniting the first bit of the decrypted text\n",
        "print('Decrypted:',decrypt(encrypted_shakesphere['output'],encrypted_shakesphere['dictionary'],encrypted_shakesphere['offset'])[0:50])"
      ],
      "execution_count":8,
      "outputs":[
        {
          "name":"stdout",
          "text":[
            "Original:  this is the 100th etext file presented by project \n",
            "Decrypted: this is the 100th etext file presented by project \n"
          ],
          "output_type":"stream"
        }
      ],
      "metadata":{
        
      }
    },
    {
      "cell_type":"code",
      "source":[
        "# Tests the time necessary to encrypt the document using the timeit module.\n",
        "# Runs 5 times and then prints out the average time\n",
        "\n",
        "t_encrypt = timeit.Timer(stmt=\"encrypt(cleaned,dictionaries['alphanumeric_no_caps'])\",globals=globals())\n",
        "print(t_encrypt.timeit(5)\/5)"
      ],
      "execution_count":9,
      "outputs":[
        {
          "name":"stdout",
          "text":[
            "1.8940477271999954\n"
          ],
          "output_type":"stream"
        }
      ],
      "metadata":{
        
      }
    },
    {
      "cell_type":"code",
      "source":[
        "# Tests the time necessary to decrypt the document using the timeit module.\n",
        "# Runs 5 times and then prints out the average time\n",
        "\n",
        "t_decrypt = timeit.Timer(stmt=\"decrypt(encrypted_shakesphere['output'],encrypted_shakesphere['dictionary'],encrypted_shakesphere['offset'])\",globals=globals())\n",
        "print(t_decrypt.timeit(5)\/5)"
      ],
      "execution_count":10,
      "outputs":[
        {
          "name":"stdout",
          "text":[
            "1.9497941538000305\n"
          ],
          "output_type":"stream"
        }
      ],
      "metadata":{
        
      }
    }
  ],
  "metadata":{
    
  },
  "nbformat":4,
  "nbformat_minor":0
}